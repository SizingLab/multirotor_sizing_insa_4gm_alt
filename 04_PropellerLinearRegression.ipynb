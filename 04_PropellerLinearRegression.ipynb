{
 "cells": [
  {
   "cell_type": "markdown",
   "metadata": {},
   "source": [
    "<img src=\"./pictures/logo_sizinglab.png\" style=\"float:right; max-width: 60px; display: inline\" alt=\"SizingLab\" /></a>\n"
   ]
  },
  {
   "cell_type": "markdown",
   "metadata": {},
   "source": [
    "# Propellers estimation models with dimensional analysis and linear regressions\n",
    "\n",
    "*Written by Marc Budinger (INSA Toulouse) and Scott Delbecq (ISAE-SUPAERO), Toulouse, France.*\n",
    "\n",
    "Propellers characteristics can be expressed by $C_T$ and $C_P$ coefficients. These coefficients are function of dimensions and conditions of use of propellers.  Dimensional analysis and linear regression of suppliers data can be used for the generation of $C_T$ and $C_P$ prediction models. \n",
    "\n",
    "*APC MR (Multi-Rotor) propellers*\n",
    "<center>![Heatsink](pictures/apc-mr-props.jpg)</center>\n"
   ]
  },
  {
   "cell_type": "markdown",
   "metadata": {},
   "source": [
    "## Dimensional analysis and $\\pi$ numbers\n",
    "\n",
    "The propeller performances can be expressed with 2 aerodynamic coefficients:\n",
    "- The thrust: $F = C_{T} \\rho n^2 D^4$  \n",
    "- The power: $P = C_{P} \\rho n^3 D^5 $\n",
    "\n",
    "The [dimensional analysis](https://web.mit.edu/16.unified/www/FALL/thermodynamics/notes/node86.html#SECTION06374000000000000000) and especially the [Buckingham $\\pi$ theorem](https://en.wikipedia.org/wiki/Buckingham_%CF%80_theorem) enable to find this results.\n"
   ]
  },
  {
   "cell_type": "markdown",
   "metadata": {},
   "source": [
    "#### Dimensional analysis of the propeller thrust  \n",
    "\n",
    "The thrust $F$ of a propeller depends of multiple parameters (geometrical dimensions, air properties, operational points):  \n",
    "$F=f(\\rho_{air},n,D,p,V,\\beta_{air})$   \n",
    "with the parameters express in the following table.\n",
    "\n",
    "Parameter|M|L|T|\n",
    "--|--|--|--\n",
    "Thrust $T$ [N] | 1|1|-2\n",
    "Mass volumic (Air) $\\rho_{air}$ [kg/m$^3$]| 1 | -3 | 0|\n",
    "Rotational speed $n$ [Hz] | 0 | 0 | -1|\n",
    "Diameter $D$ [m] | 0| 1 | 0|\n",
    "Pitch $p$ [m] | 0 | 1 | 0|\n",
    "Drone speed $V$ [m/s] | 0 | 1 | -1|\n",
    "Bulk modulus (Air) $\\beta_{air}$ [m/s] | 1 | -1 | -2|\n",
    "$=\\pi_0$|  |  |  |\n",
    "$=\\pi_1$|  |  |  |\n",
    "$=\\pi_2$|  |  |  |\n",
    "$=\\pi_3$|  |  |  |\n",
    "\n",
    "\n",
    "**Remark**: The dimension of a parameter $x$ is function of dimensions L, M and T : $[x]=M^aL^bT^c$.  The previous table gives the value of $a$, $b$ and $c$ for each parameter of the problem. \n",
    "\n",
    "> **Exercice**: Complete the table with 4 dimensionless $\\pi$ numbers possible for the given problem. Explain the number of dimensionless number.\n"
   ]
  },
  {
   "cell_type": "markdown",
   "metadata": {},
   "source": [
    "**Answer:**\n",
    "\n",
    "Buckingham $\\pi$ theorem: 7 parameters - 3 dimensions = 4 dimensionless $\\pi$ numbers\n",
    "\n",
    "Parameter|M|L|T|\n",
    "--|--|--|--\n",
    "Thrust $T$ [N] | 1|1|-2\n",
    "Mass volumic (Air) $\\rho_{air}$ [kg/m$^3$]| 1 | -3 | 0|\n",
    "Rotational speed $n$ [Hz] | 0 | 0 | -1|\n",
    "Diameter $D$ [m] | 0| 1 | 0|\n",
    "Pitch $Pitch$ [m] | 0 | 1 | 0|\n",
    "Drone speed $V$ [m/s] | 0 | 1 | -1|\n",
    "Bulk modulus (Air) $\\beta_{air}$ [Pa] | 1 | -1 | -2|\n",
    "$C_t=\\frac{T}{\\rho n^2D^4}=\\pi_0$| 0 | 0 | 0 |\n",
    "$\\frac{Pitch}{D}=\\pi_1$| 0 | 0 | 0 |\n",
    "$J=\\frac{V}{nD}=\\pi_2$| 0 | 0 | 0 |\n",
    "$\\frac{\\rho n^2D^2}{\\beta}=\\pi_3$| 0 | 0 | 0 |\n"
   ]
  },
  {
   "cell_type": "markdown",
   "metadata": {},
   "source": [
    "#### Effect of the rotational speed  \n",
    "\n",
    "APC suppliers give complete [propeller data](https://www.apcprop.com/technical-information/) for all their propellers. From the file *APC_STATIC-data-all-props.csv*, we find all static data provided by APC:"
   ]
  },
  {
   "cell_type": "code",
   "execution_count": null,
   "metadata": {},
   "outputs": [],
   "source": [
    "import pandas as pd\n",
    "\n",
    "# Read the .csv file with bearing data\n",
    "path='./data/'\n",
    "df = pd.read_csv(path+'APC_STATIC-data-all-props.csv', sep=';')\n",
    "# Print the head (first lines of the file)\n",
    "df.head()"
   ]
  },
  {
   "cell_type": "markdown",
   "metadata": {},
   "source": [
    "For next steps, we keep only the Multi-Rotor type propellers (MR). "
   ]
  },
  {
   "cell_type": "code",
   "execution_count": null,
   "metadata": {},
   "outputs": [],
   "source": [
    "# Data Filtering\n",
    "# Keeping only multirotor (MR) type\n",
    "df_MR=df[df['TYPE']=='MR']\n",
    "df_MR.head()"
   ]
  },
  {
   "cell_type": "markdown",
   "metadata": {},
   "source": [
    "We plot the $C_p$ and $C_t$ for the a 10x4.5 propeller (COMP n° 8 in the previous table). We can notice that these coefficients are constant up to a certain value of speed of rotation. The manufacturer recommends using these propellers for a product speed of rotation $\\times$ diameter less than a limit (depending on the type of propeller technology) and given [here](https://www.apcprop.com/technical-information/rpm-limits/):  \n",
    "Maximum speed(RPM) x prop diameter (inches) = 105,000  \n",
    "for MR type which gives a blade tip speed of 135 m/s. The dark spots on the following diagram correspond to this non-recommended operating zone.\n",
    "\n",
    "> **Question:** Explain the origin of this operating limit comes from and the $\\pi$ number that can express it.\n"
   ]
  },
  {
   "cell_type": "markdown",
   "metadata": {},
   "source": [
    "**Answer:**\n",
    "\n",
    "The $\\frac{\\rho_{air} n^2D^2}{\\beta}$ dimensionless number is similar to Mach number $M_a=V/c$ with $c=\\sqrt{\\frac{\\beta_{air}}{\\rho_{air}}}$ the speed of sound:  \n",
    "$$\\frac{\\rho n^2D^2}{\\beta_{air}}=M_a^2$$\n"
   ]
  },
  {
   "cell_type": "code",
   "execution_count": null,
   "metadata": {},
   "outputs": [],
   "source": [
    "# Keep only the component n°8\n",
    "df_8=df_MR[df_MR['COMP']==8]\n",
    "\n",
    "# Extract forbidden ND product\n",
    "df_8_ND=df_8[df_8['N.D']>105000.]\n",
    "\n",
    "import numpy as np\n",
    "import matplotlib.pyplot as plt\n",
    "# Plot the data\n",
    "plt.plot(df_8['RPM'],df_8['Cp'], 'bo', label='Ct')\n",
    "plt.plot(df_8['RPM'],df_8['Ct'], 'ro', label='Cp')\n",
    "plt.plot(df_8_ND['RPM'], df_8_ND['Ct'], 'mo', label='Filtered Ct')\n",
    "plt.plot(df_8_ND['RPM'], df_8_ND['Cp'], 'co', label='Filtered Cp')\n",
    "plt.xlabel('Rotational Speed [RPM]')\n",
    "plt.ylabel('Cpand Ct')\n",
    "plt.legend()\n",
    "plt.grid()\n",
    "plt.show()"
   ]
  },
  {
   "cell_type": "markdown",
   "metadata": {},
   "source": [
    "## Linear regression\n",
    "\n",
    "For next calculations, we keep only data with following criteria:\n",
    "-  Type 'MR' (Multi-Rotor)    \n",
    "-  Maximum RPM < 105,000/prop diameter (inches)"
   ]
  },
  {
   "cell_type": "code",
   "execution_count": null,
   "metadata": {},
   "outputs": [],
   "source": [
    "# Keep only operating points with ND<105000\n",
    "df_MR_ND=df_MR[df_MR['N.D']<105000.]"
   ]
  },
  {
   "cell_type": "markdown",
   "metadata": {},
   "source": [
    "The APC static data correspond to the hover operational point where the speed V=0. The aerodynamic coefficients are thus only a function of $p/D$ (called 'ANGLE' in the .csv file) dimensionless number.\n",
    "\n",
    "$C_t=\\frac{F}{\\rho_{air} n^2 D^3}=f(\\frac{p}{D})$  \n",
    "$C_p=\\frac{P}{\\rho_{air} n^3 D^5}=g(\\frac{p}{D})$  \n",
    "\n",
    "The following code uses the [StatsModels](https://www.statsmodels.org/stable/index.html) package in order to set up a $C_t$ estimator for the static case ($V=0$ or $J=0$)."
   ]
  },
  {
   "cell_type": "code",
   "execution_count": null,
   "metadata": {},
   "outputs": [],
   "source": [
    "# Determination of the least squares estimator with the OLS function \n",
    "# of the SatsModels package\n",
    "\n",
    "import statsmodels.api as sm\n",
    "\n",
    "# Data\n",
    "x = df_MR_ND['ANGLE'].values\n",
    "y_Ct = df_MR_ND['Ct'].values\n",
    "y_Cp = df_MR_ND['Cp'].values\n",
    "\n",
    "# Matrix X and Y\n",
    "X = np.concatenate((np.ones(np.size(x)).reshape(np.size(x),1),x.reshape(np.size(x),1)), axis=1)\n",
    "\n",
    "Y_Ct = y_Ct.reshape((np.size(x),1))\n",
    "Y_Cp = y_Cp.reshape((np.size(x),1))\n",
    "\n",
    "# OLS regression\n",
    "model_Ct = sm.OLS(Y_Ct, X)\n",
    "model_Cp = sm.OLS(Y_Cp, X)\n",
    "\n",
    "result_Ct = model_Ct.fit()\n",
    "result_Cp = model_Cp.fit()\n",
    "\n",
    "# Ct Parameters \n",
    "# ----\n",
    "print('Parameters: ', result_Ct.params)\n",
    "print('R2: ', result_Ct.rsquared)\n",
    "\n",
    "# Y vector prediction\n",
    "Ct_OLS = result_Ct.predict(X)\n",
    "\n",
    "# Plot the data \n",
    "plt.plot(x, y_Ct, 'o', label='Reference data')\n",
    "plt.plot(x, Ct_OLS, '-g', label='Data prediction')\n",
    "plt.xlabel('Pitch/Diameter  ratio')\n",
    "plt.ylabel('Ct')\n",
    "plt.title('Comparison of reference data and OLS regression')\n",
    "plt.legend()\n",
    "plt.grid()\n",
    "plt.show()\n",
    "\n",
    "print(\"Ct estimation model : Ct = %.2e + %.2e * p/D \"%(result_Ct.params[0],result_Ct.params[1]))"
   ]
  },
  {
   "cell_type": "markdown",
   "metadata": {},
   "source": [
    "> **Exercice**: Produce an OLS (Ordinary Least Square) regression of $C_p$ data. "
   ]
  },
  {
   "cell_type": "code",
   "execution_count": null,
   "metadata": {},
   "outputs": [],
   "source": [
    "y_Cp = df_MR_ND['Cp'].values\n",
    "model_Cp = sm.OLS(Y_Cp, X)\n",
    "\n",
    "# Cp Parameters \n",
    "# -----\n",
    "print('Parameters: ', result_Cp.params)\n",
    "print('R2: ', result_Cp.rsquared)\n",
    "\n",
    "# Y vector prediction\n",
    "Cp_OLS = result_Cp.predict(X)\n",
    "\n",
    "# Plot the data \n",
    "plt.plot(x, y_Cp, 'o', label='Reference data')\n",
    "plt.plot(x, Cp_OLS, '-g', label='Data prediction')\n",
    "plt.xlabel('Pitch/Diameter ratio')\n",
    "plt.ylabel('Cp')\n",
    "plt.title('Comparison of original data and OLS regression')\n",
    "plt.legend()\n",
    "plt.grid()\n",
    "plt.show()\n",
    "\n",
    "print(\"Cp estimation model : Cp = %.2e + %.2e * p/D \"%(result_Cp.params[0],result_Cp.params[1]))"
   ]
  },
  {
   "cell_type": "code",
   "execution_count": null,
   "metadata": {},
   "outputs": [],
   "source": []
  }
 ],
 "metadata": {
  "kernelspec": {
   "display_name": "Python 3",
   "language": "python",
   "name": "python3"
  },
  "language_info": {
   "codemirror_mode": {
    "name": "ipython",
    "version": 3
   },
   "file_extension": ".py",
   "mimetype": "text/x-python",
   "name": "python",
   "nbconvert_exporter": "python",
   "pygments_lexer": "ipython3",
   "version": "3.6.5"
  }
 },
 "nbformat": 4,
 "nbformat_minor": 4
}
